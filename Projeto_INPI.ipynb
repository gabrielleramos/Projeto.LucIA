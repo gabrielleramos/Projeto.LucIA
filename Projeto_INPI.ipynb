{
  "nbformat": 4,
  "nbformat_minor": 0,
  "metadata": {
    "colab": {
      "provenance": [],
      "authorship_tag": "ABX9TyODH+mhqw1JGbkbP6dID4qR",
      "include_colab_link": true
    },
    "kernelspec": {
      "name": "python3",
      "display_name": "Python 3"
    },
    "language_info": {
      "name": "python"
    }
  },
  "cells": [
    {
      "cell_type": "markdown",
      "metadata": {
        "id": "view-in-github",
        "colab_type": "text"
      },
      "source": [
        "<a href=\"https://colab.research.google.com/github/gabrielleramos/Projeto.LucIA/blob/main/Projeto_INPI.ipynb\" target=\"_parent\"><img src=\"https://colab.research.google.com/assets/colab-badge.svg\" alt=\"Open In Colab\"/></a>"
      ]
    },
    {
      "cell_type": "code",
      "execution_count": 2,
      "metadata": {
        "colab": {
          "base_uri": "https://localhost:8080/"
        },
        "id": "zKpngtIQZFgJ",
        "outputId": "042144b3-7dae-4d17-87f5-3dc86b9fc9a6"
      },
      "outputs": [
        {
          "output_type": "stream",
          "name": "stdout",
          "text": [
            "ERROR: unknown command \"instal\" - maybe you meant \"install\"\n"
          ]
        }
      ],
      "source": [
        "!pip install -U -q google-generativeai\n",
        "!pip instal -q -U opencv-python"
      ]
    },
    {
      "cell_type": "markdown",
      "source": [
        "Incluindo bibliotecas"
      ],
      "metadata": {
        "id": "BoOKsXl0aD4t"
      }
    },
    {
      "cell_type": "code",
      "source": [
        "from pathlib import Path\n",
        "import hashlib\n",
        "import google.generativeai as genai\n",
        "import cv2\n",
        "\n",
        "from google.colab import userdata\n",
        "from google.colab import files\n",
        "\n",
        "import textwrap\n",
        "from IPython.display import display\n",
        "from IPython.display import Markdown\n",
        ""
      ],
      "metadata": {
        "id": "vTe-O437aDWC"
      },
      "execution_count": 3,
      "outputs": []
    },
    {
      "cell_type": "markdown",
      "source": [
        "Incluir API Key do google"
      ],
      "metadata": {
        "id": "0F-9P99uaOgz"
      }
    },
    {
      "cell_type": "code",
      "source": [
        "GOOGLE_API_KEY=\"Insira_API_KEY_Aqui\"\n",
        "genai.configure(api_key=GOOGLE_API_KEY)"
      ],
      "metadata": {
        "id": "Ved2ryxRZNDz"
      },
      "execution_count": 4,
      "outputs": []
    },
    {
      "cell_type": "markdown",
      "source": [
        "Configuração do gemini"
      ],
      "metadata": {
        "id": "gZ9U2jPgabRb"
      }
    },
    {
      "cell_type": "code",
      "source": [
        "generation_config = {\n",
        "  \"temperature\": 0.5,\n",
        "  \"top_p\": 0.95,\n",
        "  \"top_k\": 0,\n",
        "}"
      ],
      "metadata": {
        "id": "3K4qPyUHaZib"
      },
      "execution_count": 6,
      "outputs": []
    },
    {
      "cell_type": "markdown",
      "source": [
        "Segurança"
      ],
      "metadata": {
        "id": "sR3EoSLlaltS"
      }
    },
    {
      "cell_type": "code",
      "source": [
        "safety_settings={\n",
        "    'HATE': 'BLOCK_NONE',\n",
        "    'HARASSMENT': 'BLOCK_NONE',\n",
        "    'SEXUAL' : 'BLOCK_NONE',\n",
        "    'DANGEROUS' : 'BLOCK_NONE'\n",
        "    }"
      ],
      "metadata": {
        "id": "ZbDiQnEValVj"
      },
      "execution_count": 7,
      "outputs": []
    },
    {
      "cell_type": "markdown",
      "source": [
        "Colocando a personalidade da LucIA"
      ],
      "metadata": {
        "id": "QmRH8JibapVq"
      }
    },
    {
      "cell_type": "code",
      "source": [
        "system_instruction = \"Agora você é um auxílio para os clientes que estão iniciando um pedido de marca junto ao INPI e necessitam de sua ajuda para definir as características da logo, Classificação de Viena, Classe do produto ou serviço e outras dúvidas sobre o manual de marcas. Você foi desenvolvida por profissionais especializados em IA e Propriedade Intelectual fornecendo informações precisas e confiáveis.\""
      ],
      "metadata": {
        "id": "Iwe1d-rJapfS"
      },
      "execution_count": 9,
      "outputs": []
    },
    {
      "cell_type": "markdown",
      "source": [
        "Escolhendo qual IA vai rodar e \"chamando\" as configurações de sistema\n",
        "\n"
      ],
      "metadata": {
        "id": "ugLiuc1wa6Uj"
      }
    },
    {
      "cell_type": "code",
      "source": [
        "model = genai.GenerativeModel(model_name=\"gemini-1.5-pro-latest\",\n",
        "                                  generation_config=generation_config,\n",
        "                                  safety_settings=safety_settings,\n",
        "                                  system_instruction=system_instruction,)"
      ],
      "metadata": {
        "id": "-ElG0qKea6ej"
      },
      "execution_count": 54,
      "outputs": []
    },
    {
      "cell_type": "markdown",
      "source": [
        "Desenvolvendo o código de análise de Logo;\n",
        "Primeira ação: perguntar se quer anexar imagem; se sim, pegar imagem, se não, agradecer a participação e finalizar o loop;\n",
        "Segunda ação: verificar se teve um logo anexada, se sim, seguir, se não, tentar novamente;\n",
        "terceira ação: Fazer a análise da logo e informação da classificação de Viena;\n",
        "quarta ação: retornar para primeira ação;\n",
        "\n",
        "obs: import re é essencial para utilizar o poder das expressões regulares em Python, dando a você ferramentas avançadas para manipular e analisar texto de forma eficiente e precisa."
      ],
      "metadata": {
        "id": "XZxLKJ9ybQXb"
      }
    },
    {
      "cell_type": "code",
      "source": [
        "import re\n",
        "chat = model.start_chat(history=[])\n",
        "\n",
        "while True:\n",
        "  logo = input(\"Deseja anexar uma logo? (sim/não): \")\n",
        "  if logo.lower() != \"sim\":\n",
        "      print(\"Até mais, espero ter ajudado!\")\n",
        "      break\n",
        "\n",
        "  uploaded = files.upload()\n",
        "  if not uploaded:\n",
        "    print(\"Poxa, não encontrei nenhuma logo, verifique se o arquivo estava em formato .Jpeg e tente novamente.\")\n",
        "    break\n",
        "\n",
        "  logo = list(uploaded.keys())[0]\n",
        "\n",
        "\n",
        "  prompt = [genai.upload_file(logo), \"Verifique a logo e descreva seus componentes principais e fale a classificação de Viena referente a cada componente principal da logo.\"]\n",
        "  response = chat.send_message(prompt)\n",
        "\n",
        "\n",
        "  for choice in response.candidates:\n",
        "      for part in choice.content.parts:\n",
        "          print(part.text)\n",
        "          chat.history[-1].parts[0].text = f\"*Analisando a logo: {logo}*\\n\\n{part.text}\"\n",
        "\n",
        ""
      ],
      "metadata": {
        "colab": {
          "base_uri": "https://localhost:8080/",
          "height": 916
        },
        "id": "8xj6wkdybPbT",
        "outputId": "36fee1c1-b881-4f10-f55a-b8449cc900e7"
      },
      "execution_count": 56,
      "outputs": [
        {
          "name": "stdout",
          "output_type": "stream",
          "text": [
            "Deseja anexar uma logo? (sim/não): sim\n"
          ]
        },
        {
          "output_type": "display_data",
          "data": {
            "text/plain": [
              "<IPython.core.display.HTML object>"
            ],
            "text/html": [
              "\n",
              "     <input type=\"file\" id=\"files-3a67716d-5595-4a66-8ba7-a2e55ccf2c48\" name=\"files[]\" multiple disabled\n",
              "        style=\"border:none\" />\n",
              "     <output id=\"result-3a67716d-5595-4a66-8ba7-a2e55ccf2c48\">\n",
              "      Upload widget is only available when the cell has been executed in the\n",
              "      current browser session. Please rerun this cell to enable.\n",
              "      </output>\n",
              "      <script>// Copyright 2017 Google LLC\n",
              "//\n",
              "// Licensed under the Apache License, Version 2.0 (the \"License\");\n",
              "// you may not use this file except in compliance with the License.\n",
              "// You may obtain a copy of the License at\n",
              "//\n",
              "//      http://www.apache.org/licenses/LICENSE-2.0\n",
              "//\n",
              "// Unless required by applicable law or agreed to in writing, software\n",
              "// distributed under the License is distributed on an \"AS IS\" BASIS,\n",
              "// WITHOUT WARRANTIES OR CONDITIONS OF ANY KIND, either express or implied.\n",
              "// See the License for the specific language governing permissions and\n",
              "// limitations under the License.\n",
              "\n",
              "/**\n",
              " * @fileoverview Helpers for google.colab Python module.\n",
              " */\n",
              "(function(scope) {\n",
              "function span(text, styleAttributes = {}) {\n",
              "  const element = document.createElement('span');\n",
              "  element.textContent = text;\n",
              "  for (const key of Object.keys(styleAttributes)) {\n",
              "    element.style[key] = styleAttributes[key];\n",
              "  }\n",
              "  return element;\n",
              "}\n",
              "\n",
              "// Max number of bytes which will be uploaded at a time.\n",
              "const MAX_PAYLOAD_SIZE = 100 * 1024;\n",
              "\n",
              "function _uploadFiles(inputId, outputId) {\n",
              "  const steps = uploadFilesStep(inputId, outputId);\n",
              "  const outputElement = document.getElementById(outputId);\n",
              "  // Cache steps on the outputElement to make it available for the next call\n",
              "  // to uploadFilesContinue from Python.\n",
              "  outputElement.steps = steps;\n",
              "\n",
              "  return _uploadFilesContinue(outputId);\n",
              "}\n",
              "\n",
              "// This is roughly an async generator (not supported in the browser yet),\n",
              "// where there are multiple asynchronous steps and the Python side is going\n",
              "// to poll for completion of each step.\n",
              "// This uses a Promise to block the python side on completion of each step,\n",
              "// then passes the result of the previous step as the input to the next step.\n",
              "function _uploadFilesContinue(outputId) {\n",
              "  const outputElement = document.getElementById(outputId);\n",
              "  const steps = outputElement.steps;\n",
              "\n",
              "  const next = steps.next(outputElement.lastPromiseValue);\n",
              "  return Promise.resolve(next.value.promise).then((value) => {\n",
              "    // Cache the last promise value to make it available to the next\n",
              "    // step of the generator.\n",
              "    outputElement.lastPromiseValue = value;\n",
              "    return next.value.response;\n",
              "  });\n",
              "}\n",
              "\n",
              "/**\n",
              " * Generator function which is called between each async step of the upload\n",
              " * process.\n",
              " * @param {string} inputId Element ID of the input file picker element.\n",
              " * @param {string} outputId Element ID of the output display.\n",
              " * @return {!Iterable<!Object>} Iterable of next steps.\n",
              " */\n",
              "function* uploadFilesStep(inputId, outputId) {\n",
              "  const inputElement = document.getElementById(inputId);\n",
              "  inputElement.disabled = false;\n",
              "\n",
              "  const outputElement = document.getElementById(outputId);\n",
              "  outputElement.innerHTML = '';\n",
              "\n",
              "  const pickedPromise = new Promise((resolve) => {\n",
              "    inputElement.addEventListener('change', (e) => {\n",
              "      resolve(e.target.files);\n",
              "    });\n",
              "  });\n",
              "\n",
              "  const cancel = document.createElement('button');\n",
              "  inputElement.parentElement.appendChild(cancel);\n",
              "  cancel.textContent = 'Cancel upload';\n",
              "  const cancelPromise = new Promise((resolve) => {\n",
              "    cancel.onclick = () => {\n",
              "      resolve(null);\n",
              "    };\n",
              "  });\n",
              "\n",
              "  // Wait for the user to pick the files.\n",
              "  const files = yield {\n",
              "    promise: Promise.race([pickedPromise, cancelPromise]),\n",
              "    response: {\n",
              "      action: 'starting',\n",
              "    }\n",
              "  };\n",
              "\n",
              "  cancel.remove();\n",
              "\n",
              "  // Disable the input element since further picks are not allowed.\n",
              "  inputElement.disabled = true;\n",
              "\n",
              "  if (!files) {\n",
              "    return {\n",
              "      response: {\n",
              "        action: 'complete',\n",
              "      }\n",
              "    };\n",
              "  }\n",
              "\n",
              "  for (const file of files) {\n",
              "    const li = document.createElement('li');\n",
              "    li.append(span(file.name, {fontWeight: 'bold'}));\n",
              "    li.append(span(\n",
              "        `(${file.type || 'n/a'}) - ${file.size} bytes, ` +\n",
              "        `last modified: ${\n",
              "            file.lastModifiedDate ? file.lastModifiedDate.toLocaleDateString() :\n",
              "                                    'n/a'} - `));\n",
              "    const percent = span('0% done');\n",
              "    li.appendChild(percent);\n",
              "\n",
              "    outputElement.appendChild(li);\n",
              "\n",
              "    const fileDataPromise = new Promise((resolve) => {\n",
              "      const reader = new FileReader();\n",
              "      reader.onload = (e) => {\n",
              "        resolve(e.target.result);\n",
              "      };\n",
              "      reader.readAsArrayBuffer(file);\n",
              "    });\n",
              "    // Wait for the data to be ready.\n",
              "    let fileData = yield {\n",
              "      promise: fileDataPromise,\n",
              "      response: {\n",
              "        action: 'continue',\n",
              "      }\n",
              "    };\n",
              "\n",
              "    // Use a chunked sending to avoid message size limits. See b/62115660.\n",
              "    let position = 0;\n",
              "    do {\n",
              "      const length = Math.min(fileData.byteLength - position, MAX_PAYLOAD_SIZE);\n",
              "      const chunk = new Uint8Array(fileData, position, length);\n",
              "      position += length;\n",
              "\n",
              "      const base64 = btoa(String.fromCharCode.apply(null, chunk));\n",
              "      yield {\n",
              "        response: {\n",
              "          action: 'append',\n",
              "          file: file.name,\n",
              "          data: base64,\n",
              "        },\n",
              "      };\n",
              "\n",
              "      let percentDone = fileData.byteLength === 0 ?\n",
              "          100 :\n",
              "          Math.round((position / fileData.byteLength) * 100);\n",
              "      percent.textContent = `${percentDone}% done`;\n",
              "\n",
              "    } while (position < fileData.byteLength);\n",
              "  }\n",
              "\n",
              "  // All done.\n",
              "  yield {\n",
              "    response: {\n",
              "      action: 'complete',\n",
              "    }\n",
              "  };\n",
              "}\n",
              "\n",
              "scope.google = scope.google || {};\n",
              "scope.google.colab = scope.google.colab || {};\n",
              "scope.google.colab._files = {\n",
              "  _uploadFiles,\n",
              "  _uploadFilesContinue,\n",
              "};\n",
              "})(self);\n",
              "</script> "
            ]
          },
          "metadata": {}
        },
        {
          "name": "stdout",
          "output_type": "stream",
          "text": [
            "Saving OzVsCorona.jpeg to OzVsCorona (7).jpeg\n",
            "A logo apresenta dois personagens principais: um vírus estilizado e um herói em forma de comprimido. \n",
            "\n",
            "**Componentes principais e Classificação de Viena:**\n",
            "\n",
            "* **Vírus:** Representado na cor verde, com olhos vermelhos, sorriso ameaçador e espinhos característicos.  Pertence à categoria de **Figuras geométricas**, especificamente **círculos ou elipses** (26.1.1.01) e **Figuras que representam seres vivos, ou partes do corpo humano ou animal**, especificamente **micróbios, vírus, bactérias** (27.7.13).  A cor verde pode ser classificada como **Verde** (29.1.1).\n",
            "\n",
            "* **Herói Comprimido:**  Representado em forma de comprimido branco, com rosto mascarado, capa vermelha, símbolo de átomo no peito e disparando raios azuis com as mãos. Pertence à categoria de **Figuras geométricas**, especificamente **Formas básicas, exceto círculos, ovais ou elipses** (26.1.3) e **Figuras que representam a forma humana ou partes do corpo humano**, especificamente **Representações de pessoas ou partes do corpo humano em posições ou atitudes específicas** (27.3.15). A cor branca se enquadra em **Branco, Cinza, Prata** (29.1.7), a capa vermelha em **Vermelho, Rosa, Bordô** (29.1.5) e os raios azuis em **Azul, Céu, Azul-marinho** (29.1.4). O símbolo do átomo pode ser classificado em **Representações de átomos** (26.5.1).\n",
            "\n",
            "Vale ressaltar que a Classificação de Viena é bastante extensa e detalhada. É importante analisar cuidadosamente cada elemento da sua logo e buscar as categorias que melhor a descrevem. Em caso de dúvidas, consulte o Manual de Marcas do INPI ou um profissional especializado em Propriedade Intelectual. \n",
            "\n",
            "Deseja anexar uma logo? (sim/não): sim\n"
          ]
        },
        {
          "output_type": "display_data",
          "data": {
            "text/plain": [
              "<IPython.core.display.HTML object>"
            ],
            "text/html": [
              "\n",
              "     <input type=\"file\" id=\"files-4930199b-825b-47e5-bb14-394fe83b9d0c\" name=\"files[]\" multiple disabled\n",
              "        style=\"border:none\" />\n",
              "     <output id=\"result-4930199b-825b-47e5-bb14-394fe83b9d0c\">\n",
              "      Upload widget is only available when the cell has been executed in the\n",
              "      current browser session. Please rerun this cell to enable.\n",
              "      </output>\n",
              "      <script>// Copyright 2017 Google LLC\n",
              "//\n",
              "// Licensed under the Apache License, Version 2.0 (the \"License\");\n",
              "// you may not use this file except in compliance with the License.\n",
              "// You may obtain a copy of the License at\n",
              "//\n",
              "//      http://www.apache.org/licenses/LICENSE-2.0\n",
              "//\n",
              "// Unless required by applicable law or agreed to in writing, software\n",
              "// distributed under the License is distributed on an \"AS IS\" BASIS,\n",
              "// WITHOUT WARRANTIES OR CONDITIONS OF ANY KIND, either express or implied.\n",
              "// See the License for the specific language governing permissions and\n",
              "// limitations under the License.\n",
              "\n",
              "/**\n",
              " * @fileoverview Helpers for google.colab Python module.\n",
              " */\n",
              "(function(scope) {\n",
              "function span(text, styleAttributes = {}) {\n",
              "  const element = document.createElement('span');\n",
              "  element.textContent = text;\n",
              "  for (const key of Object.keys(styleAttributes)) {\n",
              "    element.style[key] = styleAttributes[key];\n",
              "  }\n",
              "  return element;\n",
              "}\n",
              "\n",
              "// Max number of bytes which will be uploaded at a time.\n",
              "const MAX_PAYLOAD_SIZE = 100 * 1024;\n",
              "\n",
              "function _uploadFiles(inputId, outputId) {\n",
              "  const steps = uploadFilesStep(inputId, outputId);\n",
              "  const outputElement = document.getElementById(outputId);\n",
              "  // Cache steps on the outputElement to make it available for the next call\n",
              "  // to uploadFilesContinue from Python.\n",
              "  outputElement.steps = steps;\n",
              "\n",
              "  return _uploadFilesContinue(outputId);\n",
              "}\n",
              "\n",
              "// This is roughly an async generator (not supported in the browser yet),\n",
              "// where there are multiple asynchronous steps and the Python side is going\n",
              "// to poll for completion of each step.\n",
              "// This uses a Promise to block the python side on completion of each step,\n",
              "// then passes the result of the previous step as the input to the next step.\n",
              "function _uploadFilesContinue(outputId) {\n",
              "  const outputElement = document.getElementById(outputId);\n",
              "  const steps = outputElement.steps;\n",
              "\n",
              "  const next = steps.next(outputElement.lastPromiseValue);\n",
              "  return Promise.resolve(next.value.promise).then((value) => {\n",
              "    // Cache the last promise value to make it available to the next\n",
              "    // step of the generator.\n",
              "    outputElement.lastPromiseValue = value;\n",
              "    return next.value.response;\n",
              "  });\n",
              "}\n",
              "\n",
              "/**\n",
              " * Generator function which is called between each async step of the upload\n",
              " * process.\n",
              " * @param {string} inputId Element ID of the input file picker element.\n",
              " * @param {string} outputId Element ID of the output display.\n",
              " * @return {!Iterable<!Object>} Iterable of next steps.\n",
              " */\n",
              "function* uploadFilesStep(inputId, outputId) {\n",
              "  const inputElement = document.getElementById(inputId);\n",
              "  inputElement.disabled = false;\n",
              "\n",
              "  const outputElement = document.getElementById(outputId);\n",
              "  outputElement.innerHTML = '';\n",
              "\n",
              "  const pickedPromise = new Promise((resolve) => {\n",
              "    inputElement.addEventListener('change', (e) => {\n",
              "      resolve(e.target.files);\n",
              "    });\n",
              "  });\n",
              "\n",
              "  const cancel = document.createElement('button');\n",
              "  inputElement.parentElement.appendChild(cancel);\n",
              "  cancel.textContent = 'Cancel upload';\n",
              "  const cancelPromise = new Promise((resolve) => {\n",
              "    cancel.onclick = () => {\n",
              "      resolve(null);\n",
              "    };\n",
              "  });\n",
              "\n",
              "  // Wait for the user to pick the files.\n",
              "  const files = yield {\n",
              "    promise: Promise.race([pickedPromise, cancelPromise]),\n",
              "    response: {\n",
              "      action: 'starting',\n",
              "    }\n",
              "  };\n",
              "\n",
              "  cancel.remove();\n",
              "\n",
              "  // Disable the input element since further picks are not allowed.\n",
              "  inputElement.disabled = true;\n",
              "\n",
              "  if (!files) {\n",
              "    return {\n",
              "      response: {\n",
              "        action: 'complete',\n",
              "      }\n",
              "    };\n",
              "  }\n",
              "\n",
              "  for (const file of files) {\n",
              "    const li = document.createElement('li');\n",
              "    li.append(span(file.name, {fontWeight: 'bold'}));\n",
              "    li.append(span(\n",
              "        `(${file.type || 'n/a'}) - ${file.size} bytes, ` +\n",
              "        `last modified: ${\n",
              "            file.lastModifiedDate ? file.lastModifiedDate.toLocaleDateString() :\n",
              "                                    'n/a'} - `));\n",
              "    const percent = span('0% done');\n",
              "    li.appendChild(percent);\n",
              "\n",
              "    outputElement.appendChild(li);\n",
              "\n",
              "    const fileDataPromise = new Promise((resolve) => {\n",
              "      const reader = new FileReader();\n",
              "      reader.onload = (e) => {\n",
              "        resolve(e.target.result);\n",
              "      };\n",
              "      reader.readAsArrayBuffer(file);\n",
              "    });\n",
              "    // Wait for the data to be ready.\n",
              "    let fileData = yield {\n",
              "      promise: fileDataPromise,\n",
              "      response: {\n",
              "        action: 'continue',\n",
              "      }\n",
              "    };\n",
              "\n",
              "    // Use a chunked sending to avoid message size limits. See b/62115660.\n",
              "    let position = 0;\n",
              "    do {\n",
              "      const length = Math.min(fileData.byteLength - position, MAX_PAYLOAD_SIZE);\n",
              "      const chunk = new Uint8Array(fileData, position, length);\n",
              "      position += length;\n",
              "\n",
              "      const base64 = btoa(String.fromCharCode.apply(null, chunk));\n",
              "      yield {\n",
              "        response: {\n",
              "          action: 'append',\n",
              "          file: file.name,\n",
              "          data: base64,\n",
              "        },\n",
              "      };\n",
              "\n",
              "      let percentDone = fileData.byteLength === 0 ?\n",
              "          100 :\n",
              "          Math.round((position / fileData.byteLength) * 100);\n",
              "      percent.textContent = `${percentDone}% done`;\n",
              "\n",
              "    } while (position < fileData.byteLength);\n",
              "  }\n",
              "\n",
              "  // All done.\n",
              "  yield {\n",
              "    response: {\n",
              "      action: 'complete',\n",
              "    }\n",
              "  };\n",
              "}\n",
              "\n",
              "scope.google = scope.google || {};\n",
              "scope.google.colab = scope.google.colab || {};\n",
              "scope.google.colab._files = {\n",
              "  _uploadFiles,\n",
              "  _uploadFilesContinue,\n",
              "};\n",
              "})(self);\n",
              "</script> "
            ]
          },
          "metadata": {}
        },
        {
          "name": "stdout",
          "output_type": "stream",
          "text": [
            "Saving logo alura.png to logo alura.png\n",
            "A logo da Alura apresenta dois componentes principais: a letra \"a\" estilizada e a palavra \"alura\" em letras pretas.\n",
            "\n",
            "**Componentes principais e Classificação de Viena:**\n",
            "\n",
            "* **Letra \"a\" estilizada:** Formada por quatro partes coloridas (verde, amarelo, azul e roxo) que se encaixam, criando um efeito tridimensional. Essa letra estilizada se enquadra na categoria de **letras do alfabeto, números arábicos ou romanos** (26.11.1) e **cores múltiplas** (29.5.1). As cores individualmente podem ser classificadas como:\n",
            "    * Verde (29.1.1)\n",
            "    * Amarelo (29.1.3)\n",
            "    * Azul (29.1.4)\n",
            "    * Roxo/Violeta (29.1.13)\n",
            "\n",
            "* **Palavra \"alura\" em letras pretas:**  Escrita em letras pretas, com um estilo simples e moderno, sem serifa.  Pertence à categoria de **letras do alfabeto, números arábicos ou romanos** (26.11.1) e a cor preta se enquadra em **preto, cinza escuro** (29.1.8).\n",
            "\n",
            "É importante lembrar que a Classificação de Viena serve como guia para organizar e facilitar a busca de marcas. É fundamental descrever a sua marca de forma precisa e completa, considerando todos os seus elementos visuais.  Em caso de dúvidas, consulte o Manual de Marcas do INPI ou um profissional especializado em Propriedade Intelectual. \n",
            "\n",
            "Deseja anexar uma logo? (sim/não): sim\n"
          ]
        },
        {
          "output_type": "display_data",
          "data": {
            "text/plain": [
              "<IPython.core.display.HTML object>"
            ],
            "text/html": [
              "\n",
              "     <input type=\"file\" id=\"files-20496052-884d-4280-aa19-601afcb23fc3\" name=\"files[]\" multiple disabled\n",
              "        style=\"border:none\" />\n",
              "     <output id=\"result-20496052-884d-4280-aa19-601afcb23fc3\">\n",
              "      Upload widget is only available when the cell has been executed in the\n",
              "      current browser session. Please rerun this cell to enable.\n",
              "      </output>\n",
              "      <script>// Copyright 2017 Google LLC\n",
              "//\n",
              "// Licensed under the Apache License, Version 2.0 (the \"License\");\n",
              "// you may not use this file except in compliance with the License.\n",
              "// You may obtain a copy of the License at\n",
              "//\n",
              "//      http://www.apache.org/licenses/LICENSE-2.0\n",
              "//\n",
              "// Unless required by applicable law or agreed to in writing, software\n",
              "// distributed under the License is distributed on an \"AS IS\" BASIS,\n",
              "// WITHOUT WARRANTIES OR CONDITIONS OF ANY KIND, either express or implied.\n",
              "// See the License for the specific language governing permissions and\n",
              "// limitations under the License.\n",
              "\n",
              "/**\n",
              " * @fileoverview Helpers for google.colab Python module.\n",
              " */\n",
              "(function(scope) {\n",
              "function span(text, styleAttributes = {}) {\n",
              "  const element = document.createElement('span');\n",
              "  element.textContent = text;\n",
              "  for (const key of Object.keys(styleAttributes)) {\n",
              "    element.style[key] = styleAttributes[key];\n",
              "  }\n",
              "  return element;\n",
              "}\n",
              "\n",
              "// Max number of bytes which will be uploaded at a time.\n",
              "const MAX_PAYLOAD_SIZE = 100 * 1024;\n",
              "\n",
              "function _uploadFiles(inputId, outputId) {\n",
              "  const steps = uploadFilesStep(inputId, outputId);\n",
              "  const outputElement = document.getElementById(outputId);\n",
              "  // Cache steps on the outputElement to make it available for the next call\n",
              "  // to uploadFilesContinue from Python.\n",
              "  outputElement.steps = steps;\n",
              "\n",
              "  return _uploadFilesContinue(outputId);\n",
              "}\n",
              "\n",
              "// This is roughly an async generator (not supported in the browser yet),\n",
              "// where there are multiple asynchronous steps and the Python side is going\n",
              "// to poll for completion of each step.\n",
              "// This uses a Promise to block the python side on completion of each step,\n",
              "// then passes the result of the previous step as the input to the next step.\n",
              "function _uploadFilesContinue(outputId) {\n",
              "  const outputElement = document.getElementById(outputId);\n",
              "  const steps = outputElement.steps;\n",
              "\n",
              "  const next = steps.next(outputElement.lastPromiseValue);\n",
              "  return Promise.resolve(next.value.promise).then((value) => {\n",
              "    // Cache the last promise value to make it available to the next\n",
              "    // step of the generator.\n",
              "    outputElement.lastPromiseValue = value;\n",
              "    return next.value.response;\n",
              "  });\n",
              "}\n",
              "\n",
              "/**\n",
              " * Generator function which is called between each async step of the upload\n",
              " * process.\n",
              " * @param {string} inputId Element ID of the input file picker element.\n",
              " * @param {string} outputId Element ID of the output display.\n",
              " * @return {!Iterable<!Object>} Iterable of next steps.\n",
              " */\n",
              "function* uploadFilesStep(inputId, outputId) {\n",
              "  const inputElement = document.getElementById(inputId);\n",
              "  inputElement.disabled = false;\n",
              "\n",
              "  const outputElement = document.getElementById(outputId);\n",
              "  outputElement.innerHTML = '';\n",
              "\n",
              "  const pickedPromise = new Promise((resolve) => {\n",
              "    inputElement.addEventListener('change', (e) => {\n",
              "      resolve(e.target.files);\n",
              "    });\n",
              "  });\n",
              "\n",
              "  const cancel = document.createElement('button');\n",
              "  inputElement.parentElement.appendChild(cancel);\n",
              "  cancel.textContent = 'Cancel upload';\n",
              "  const cancelPromise = new Promise((resolve) => {\n",
              "    cancel.onclick = () => {\n",
              "      resolve(null);\n",
              "    };\n",
              "  });\n",
              "\n",
              "  // Wait for the user to pick the files.\n",
              "  const files = yield {\n",
              "    promise: Promise.race([pickedPromise, cancelPromise]),\n",
              "    response: {\n",
              "      action: 'starting',\n",
              "    }\n",
              "  };\n",
              "\n",
              "  cancel.remove();\n",
              "\n",
              "  // Disable the input element since further picks are not allowed.\n",
              "  inputElement.disabled = true;\n",
              "\n",
              "  if (!files) {\n",
              "    return {\n",
              "      response: {\n",
              "        action: 'complete',\n",
              "      }\n",
              "    };\n",
              "  }\n",
              "\n",
              "  for (const file of files) {\n",
              "    const li = document.createElement('li');\n",
              "    li.append(span(file.name, {fontWeight: 'bold'}));\n",
              "    li.append(span(\n",
              "        `(${file.type || 'n/a'}) - ${file.size} bytes, ` +\n",
              "        `last modified: ${\n",
              "            file.lastModifiedDate ? file.lastModifiedDate.toLocaleDateString() :\n",
              "                                    'n/a'} - `));\n",
              "    const percent = span('0% done');\n",
              "    li.appendChild(percent);\n",
              "\n",
              "    outputElement.appendChild(li);\n",
              "\n",
              "    const fileDataPromise = new Promise((resolve) => {\n",
              "      const reader = new FileReader();\n",
              "      reader.onload = (e) => {\n",
              "        resolve(e.target.result);\n",
              "      };\n",
              "      reader.readAsArrayBuffer(file);\n",
              "    });\n",
              "    // Wait for the data to be ready.\n",
              "    let fileData = yield {\n",
              "      promise: fileDataPromise,\n",
              "      response: {\n",
              "        action: 'continue',\n",
              "      }\n",
              "    };\n",
              "\n",
              "    // Use a chunked sending to avoid message size limits. See b/62115660.\n",
              "    let position = 0;\n",
              "    do {\n",
              "      const length = Math.min(fileData.byteLength - position, MAX_PAYLOAD_SIZE);\n",
              "      const chunk = new Uint8Array(fileData, position, length);\n",
              "      position += length;\n",
              "\n",
              "      const base64 = btoa(String.fromCharCode.apply(null, chunk));\n",
              "      yield {\n",
              "        response: {\n",
              "          action: 'append',\n",
              "          file: file.name,\n",
              "          data: base64,\n",
              "        },\n",
              "      };\n",
              "\n",
              "      let percentDone = fileData.byteLength === 0 ?\n",
              "          100 :\n",
              "          Math.round((position / fileData.byteLength) * 100);\n",
              "      percent.textContent = `${percentDone}% done`;\n",
              "\n",
              "    } while (position < fileData.byteLength);\n",
              "  }\n",
              "\n",
              "  // All done.\n",
              "  yield {\n",
              "    response: {\n",
              "      action: 'complete',\n",
              "    }\n",
              "  };\n",
              "}\n",
              "\n",
              "scope.google = scope.google || {};\n",
              "scope.google.colab = scope.google.colab || {};\n",
              "scope.google.colab._files = {\n",
              "  _uploadFiles,\n",
              "  _uploadFilesContinue,\n",
              "};\n",
              "})(self);\n",
              "</script> "
            ]
          },
          "metadata": {}
        },
        {
          "output_type": "stream",
          "name": "stdout",
          "text": [
            "Saving logo python.jfif to logo python.jfif\n",
            "A logo do Python apresenta dois componentes principais: um ícone representando duas cobras entrelaçadas e a palavra \"python\" escrita em letras minúsculas.\n",
            "\n",
            "**Componentes principais e Classificação de Viena:**\n",
            "\n",
            "* **Ícone de cobras:** Duas cobras estilizadas, uma azul e uma amarela, entrelaçadas formando um desenho que lembra o símbolo do infinito. Se enquadra na categoria de **Figuras que representam animais**, especificamente **répteis** (27.7.11). As cores individualmente podem ser classificadas como:\n",
            "    * Azul (29.1.4)\n",
            "    * Amarelo (29.1.3)\n",
            "\n",
            "* **Palavra \"python\" em letras minúsculas:** Escrita em letras cinza, estilo simples e moderno, sem serifa. Pertence à categoria de **letras do alfabeto, números arábicos ou romanos** (26.11.1) e a cor cinza se enquadra em **Branco, Cinza, Prata** (29.1.7).\n",
            "\n",
            "Vale lembrar que a Classificação de Viena é uma ferramenta para auxiliar na busca e registro de marcas. É crucial descrever sua marca de forma completa e precisa, incluindo todos os elementos visuais. Consulte o Manual de Marcas do INPI ou um profissional especializado em Propriedade Intelectual se precisar de ajuda. \n",
            "\n",
            "Deseja anexar uma logo? (sim/não): não\n",
            "Até mais, espero ter ajudado!\n"
          ]
        }
      ]
    },
    {
      "cell_type": "markdown",
      "source": [
        "Arrumando a beleza do texto de resposta"
      ],
      "metadata": {
        "id": "vDXzgp7PdRw7"
      }
    },
    {
      "cell_type": "code",
      "source": [
        "def to_markdown(text):\n",
        "  text = text.replace('•', '  *')\n",
        "  return Markdown(textwrap.indent(text, ' ', lambda lina: True))\n",
        "\n",
        "#Imprimindo o histórico\n",
        "for message in chat.history:\n",
        "  display(to_markdown(f\"{message.parts[0].text}\"))\n",
        "  print('-')\n",
        ""
      ],
      "metadata": {
        "colab": {
          "base_uri": "https://localhost:8080/",
          "height": 970
        },
        "id": "qGIBHZf9dRkT",
        "outputId": "33cf404e-6c74-4d85-d47c-aadaf43e9544"
      },
      "execution_count": 57,
      "outputs": [
        {
          "output_type": "display_data",
          "data": {
            "text/plain": [
              "<IPython.core.display.Markdown object>"
            ],
            "text/markdown": ""
          },
          "metadata": {}
        },
        {
          "output_type": "stream",
          "name": "stdout",
          "text": [
            "-\n"
          ]
        },
        {
          "output_type": "display_data",
          "data": {
            "text/plain": [
              "<IPython.core.display.Markdown object>"
            ],
            "text/markdown": " *Analisando a logo: OzVsCorona (7).jpeg*\n \n A logo apresenta dois personagens principais: um vírus estilizado e um herói em forma de comprimido. \n \n **Componentes principais e Classificação de Viena:**\n \n * **Vírus:** Representado na cor verde, com olhos vermelhos, sorriso ameaçador e espinhos característicos.  Pertence à categoria de **Figuras geométricas**, especificamente **círculos ou elipses** (26.1.1.01) e **Figuras que representam seres vivos, ou partes do corpo humano ou animal**, especificamente **micróbios, vírus, bactérias** (27.7.13).  A cor verde pode ser classificada como **Verde** (29.1.1).\n \n * **Herói Comprimido:**  Representado em forma de comprimido branco, com rosto mascarado, capa vermelha, símbolo de átomo no peito e disparando raios azuis com as mãos. Pertence à categoria de **Figuras geométricas**, especificamente **Formas básicas, exceto círculos, ovais ou elipses** (26.1.3) e **Figuras que representam a forma humana ou partes do corpo humano**, especificamente **Representações de pessoas ou partes do corpo humano em posições ou atitudes específicas** (27.3.15). A cor branca se enquadra em **Branco, Cinza, Prata** (29.1.7), a capa vermelha em **Vermelho, Rosa, Bordô** (29.1.5) e os raios azuis em **Azul, Céu, Azul-marinho** (29.1.4). O símbolo do átomo pode ser classificado em **Representações de átomos** (26.5.1).\n \n Vale ressaltar que a Classificação de Viena é bastante extensa e detalhada. É importante analisar cuidadosamente cada elemento da sua logo e buscar as categorias que melhor a descrevem. Em caso de dúvidas, consulte o Manual de Marcas do INPI ou um profissional especializado em Propriedade Intelectual. \n"
          },
          "metadata": {}
        },
        {
          "output_type": "stream",
          "name": "stdout",
          "text": [
            "-\n"
          ]
        },
        {
          "output_type": "display_data",
          "data": {
            "text/plain": [
              "<IPython.core.display.Markdown object>"
            ],
            "text/markdown": ""
          },
          "metadata": {}
        },
        {
          "output_type": "stream",
          "name": "stdout",
          "text": [
            "-\n"
          ]
        },
        {
          "output_type": "display_data",
          "data": {
            "text/plain": [
              "<IPython.core.display.Markdown object>"
            ],
            "text/markdown": " *Analisando a logo: logo alura.png*\n \n A logo da Alura apresenta dois componentes principais: a letra \"a\" estilizada e a palavra \"alura\" em letras pretas.\n \n **Componentes principais e Classificação de Viena:**\n \n * **Letra \"a\" estilizada:** Formada por quatro partes coloridas (verde, amarelo, azul e roxo) que se encaixam, criando um efeito tridimensional. Essa letra estilizada se enquadra na categoria de **letras do alfabeto, números arábicos ou romanos** (26.11.1) e **cores múltiplas** (29.5.1). As cores individualmente podem ser classificadas como:\n     * Verde (29.1.1)\n     * Amarelo (29.1.3)\n     * Azul (29.1.4)\n     * Roxo/Violeta (29.1.13)\n \n * **Palavra \"alura\" em letras pretas:**  Escrita em letras pretas, com um estilo simples e moderno, sem serifa.  Pertence à categoria de **letras do alfabeto, números arábicos ou romanos** (26.11.1) e a cor preta se enquadra em **preto, cinza escuro** (29.1.8).\n \n É importante lembrar que a Classificação de Viena serve como guia para organizar e facilitar a busca de marcas. É fundamental descrever a sua marca de forma precisa e completa, considerando todos os seus elementos visuais.  Em caso de dúvidas, consulte o Manual de Marcas do INPI ou um profissional especializado em Propriedade Intelectual. \n"
          },
          "metadata": {}
        },
        {
          "output_type": "stream",
          "name": "stdout",
          "text": [
            "-\n"
          ]
        },
        {
          "output_type": "display_data",
          "data": {
            "text/plain": [
              "<IPython.core.display.Markdown object>"
            ],
            "text/markdown": ""
          },
          "metadata": {}
        },
        {
          "output_type": "stream",
          "name": "stdout",
          "text": [
            "-\n"
          ]
        },
        {
          "output_type": "display_data",
          "data": {
            "text/plain": [
              "<IPython.core.display.Markdown object>"
            ],
            "text/markdown": " *Analisando a logo: logo python.jfif*\n \n A logo do Python apresenta dois componentes principais: um ícone representando duas cobras entrelaçadas e a palavra \"python\" escrita em letras minúsculas.\n \n **Componentes principais e Classificação de Viena:**\n \n * **Ícone de cobras:** Duas cobras estilizadas, uma azul e uma amarela, entrelaçadas formando um desenho que lembra o símbolo do infinito. Se enquadra na categoria de **Figuras que representam animais**, especificamente **répteis** (27.7.11). As cores individualmente podem ser classificadas como:\n     * Azul (29.1.4)\n     * Amarelo (29.1.3)\n \n * **Palavra \"python\" em letras minúsculas:** Escrita em letras cinza, estilo simples e moderno, sem serifa. Pertence à categoria de **letras do alfabeto, números arábicos ou romanos** (26.11.1) e a cor cinza se enquadra em **Branco, Cinza, Prata** (29.1.7).\n \n Vale lembrar que a Classificação de Viena é uma ferramenta para auxiliar na busca e registro de marcas. É crucial descrever sua marca de forma completa e precisa, incluindo todos os elementos visuais. Consulte o Manual de Marcas do INPI ou um profissional especializado em Propriedade Intelectual se precisar de ajuda. \n"
          },
          "metadata": {}
        },
        {
          "output_type": "stream",
          "name": "stdout",
          "text": [
            "-\n"
          ]
        }
      ]
    }
  ]
}